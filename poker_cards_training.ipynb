{
 "cells": [
  {
   "cell_type": "code",
   "execution_count": null,
   "metadata": {},
   "outputs": [],
   "source": [
    "#! /usr/bin/python\n",
    "\n",
    "# Code for this file was taken from:\n",
    "# https://github.com/arnabdotorg/Playing-Card-Recognition\n",
    "# And then modified for our purposes\n",
    "import sys\n",
    "import numpy as np\n",
    "import cv2"
   ]
  },
  {
   "cell_type": "code",
   "execution_count": null,
   "metadata": {},
   "outputs": [],
   "source": [
    "# global variable to contain training on whole deck\n",
    "training = None\n",
    "\n",
    "\n",
    "###############################################################################\n",
    "# Utility code from \n",
    "# http://git.io/vGi60A\n",
    "# Thanks to author of the sudoku example for the wonderful blog posts!\n",
    "###############################################################################\n",
    "\n",
    "def rectify(h):\n",
    "#   print(h.shape)\n",
    "#   print(len(h))\n",
    "  h = h.reshape((4,2))\n",
    "  hnew = np.zeros((4,2),dtype = np.float32)\n",
    "\n",
    "  add = h.sum(1)\n",
    "  hnew[0] = h[np.argmin(add)]\n",
    "  hnew[2] = h[np.argmax(add)]\n",
    "   \n",
    "  diff = np.diff(h,axis = 1)\n",
    "  hnew[1] = h[np.argmin(diff)]\n",
    "  hnew[3] = h[np.argmax(diff)]\n",
    "\n",
    "  return hnew\n",
    "###############################################################################\n",
    "# Image Matching\n",
    "###############################################################################\n",
    "def preprocess(img):\n",
    "  gray = cv2.cvtColor(img,cv2.COLOR_BGR2GRAY)\n",
    "  blur = cv2.GaussianBlur(gray,(5,5),2 )\n",
    "  thresh = cv2.adaptiveThreshold(blur,255,1,1,11,1)\n",
    "  return thresh\n",
    "  \n",
    "def imgdiff(img1,img2):\n",
    "  img1 = cv2.GaussianBlur(img1,(5,5),5)\n",
    "  img2 = cv2.GaussianBlur(img2,(5,5),5)    \n",
    "  diff = cv2.absdiff(img1,img2)  \n",
    "  diff = cv2.GaussianBlur(diff,(5,5),5)    \n",
    "  flag, diff = cv2.threshold(diff, 200, 255, cv2.THRESH_BINARY) \n",
    "  return np.sum(diff)  \n",
    "\n",
    "def find_closest_card(training,img):\n",
    "  features = preprocess(img)\n",
    "  return sorted(training.values(), key=lambda x:imgdiff(x[1],features))[0][0]\n",
    "  "
   ]
  },
  {
   "cell_type": "code",
   "execution_count": null,
   "metadata": {},
   "outputs": [],
   "source": [
    "###############################################################################\n",
    "# Card Extraction\n",
    "###############################################################################  \n",
    "def getCards(im, numcards=1):\n",
    "  gray = cv2.cvtColor(im,cv2.COLOR_BGR2GRAY)\n",
    "  blur = cv2.GaussianBlur(gray,(1,1),1000)\n",
    "  flag, thresh = cv2.threshold(blur, 120, 255, cv2.THRESH_BINARY) \n",
    "       \n",
    "  contours, hierarchy = cv2.findContours(thresh,cv2.RETR_TREE,cv2.CHAIN_APPROX_SIMPLE)\n",
    "\n",
    "  contours = sorted(contours, key=cv2.contourArea,reverse=True)[:numcards]  \n",
    "\n",
    "  for card in contours:\n",
    "    peri = cv2.arcLength(card,True)\n",
    "    approx = rectify(cv2.approxPolyDP(card,0.02*peri,True))  \n",
    "    \n",
    "    h = np.array([ [0,0],[449,0],[449,449],[0,449] ],np.float32)\n",
    "\n",
    "    transform = cv2.getPerspectiveTransform(approx,h)\n",
    "    warp = cv2.warpPerspective(im,transform,(450,450))\n",
    "    \n",
    "    yield warp"
   ]
  },
  {
   "cell_type": "code",
   "execution_count": null,
   "metadata": {},
   "outputs": [],
   "source": [
    "def get_training(training_labels_filename,training_image_filename,num_training_cards,avoid_cards=None):\n",
    "  training = {}\n",
    "  \n",
    "  labels = {}\n",
    "  for line in open(training_labels_filename): \n",
    "    key, num, suit = line.strip().split()\n",
    "    labels[int(key)] = (num,suit)\n",
    "    \n",
    "  print (\"Training\")\n",
    "\n",
    "  im = cv2.imread(training_image_filename)\n",
    "  for i,c in enumerate(getCards(im,num_training_cards)):\n",
    "    if avoid_cards is None or (labels[i][0] not in avoid_cards[0] and labels[i][1] not in avoid_cards[1]):\n",
    "      training[i] = (labels[i], preprocess(c))\n",
    "  \n",
    "  print (\"Done training\")\n",
    "  return training"
   ]
  },
  {
   "cell_type": "code",
   "execution_count": null,
   "metadata": {},
   "outputs": [],
   "source": [
    "# runs training on whole deck, only need to do once at beginning\n",
    "def training():\n",
    "  global training\n",
    "\n",
    "#   training_image_filename = \"/home/cc/ee106a/fa17/class/ee106a-abe/ros_workspaces/BlackJack/src/card_recognition/src/train.png\"\n",
    "#   training_labels_filename = \"/home/cc/ee106a/fa17/class/ee106a-abe/ros_workspaces/BlackJack/src/card_recognition/src/train.tsv\"\n",
    "  training_image_filename = \"/Users/henryleou/UC Berkeley Fall 2019/EECS C106A/Playing-Card-Recognition/train.png\"\n",
    "  training_labels_filename = \"/Users/henryleou/UC Berkeley Fall 2019/EECS C106A/Playing-Card-Recognition/train.tsv\"\n",
    "  num_training_cards = 56\n",
    "\n",
    "  training = get_training(training_labels_filename, training_image_filename, num_training_cards)"
   ]
  },
  {
   "cell_type": "code",
   "execution_count": null,
   "metadata": {},
   "outputs": [],
   "source": [
    "# compares current card to training to find best match\n",
    "def recognize_card(filename):\n",
    "  global training\n",
    "  num_cards = 2\n",
    "\n",
    "  im = cv2.imread(filename)\n",
    "\n",
    "  # rotates image before diff calc\n",
    "  width = im.shape[0]\n",
    "  height = im.shape[1]\n",
    "  if width < height:\n",
    "    im = cv2.transpose(im)\n",
    "    im = cv2.flip(im,1)\n",
    "\n",
    "  cards = [find_closest_card(training,c) for c in getCards(im,num_cards)]\n",
    "\n",
    "  return cards"
   ]
  },
  {
   "cell_type": "code",
   "execution_count": null,
   "metadata": {},
   "outputs": [],
   "source": [
    "training()"
   ]
  },
  {
   "cell_type": "code",
   "execution_count": null,
   "metadata": {},
   "outputs": [],
   "source": [
    "filename = \"/Users/henryleou/UC Berkeley Fall 2019/EECS C106A/Playing-Card-Recognition/test22.jpg\"\n",
    "recognize_card(filename)"
   ]
  },
  {
   "cell_type": "code",
   "execution_count": null,
   "metadata": {},
   "outputs": [],
   "source": []
  },
  {
   "cell_type": "code",
   "execution_count": null,
   "metadata": {},
   "outputs": [],
   "source": []
  },
  {
   "cell_type": "code",
   "execution_count": null,
   "metadata": {},
   "outputs": [],
   "source": []
  }
 ],
 "metadata": {
  "kernelspec": {
   "display_name": "Python 2",
   "language": "python",
   "name": "python2"
  },
  "language_info": {
   "codemirror_mode": {
    "name": "ipython",
    "version": 3
   },
   "file_extension": ".py",
   "mimetype": "text/x-python",
   "name": "python",
   "nbconvert_exporter": "python",
   "pygments_lexer": "ipython3",
   "version": "3.6.6"
  }
 },
 "nbformat": 4,
 "nbformat_minor": 2
}
